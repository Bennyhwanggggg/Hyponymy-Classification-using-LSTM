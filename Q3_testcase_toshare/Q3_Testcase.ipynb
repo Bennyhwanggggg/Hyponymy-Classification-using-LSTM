{
 "cells": [
  {
   "cell_type": "markdown",
   "metadata": {},
   "source": [
    "# Q3: Char Sequence Embeddings Test Case "
   ]
  },
  {
   "cell_type": "code",
   "execution_count": 4,
   "metadata": {},
   "outputs": [],
   "source": [
    "import torch\n",
    "import numpy as np\n",
    "from config import config\n",
    "from model import sequence_labeling\n",
    "from randomness import apply_random_seed\n",
    "from data_io import DataReader, gen_embedding_from_file, read_tag_vocab"
   ]
  },
  {
   "cell_type": "markdown",
   "metadata": {},
   "source": [
    "## Reading word and char index dictionaries"
   ]
  },
  {
   "cell_type": "code",
   "execution_count": 5,
   "metadata": {},
   "outputs": [],
   "source": [
    "_config = config()\n",
    "apply_random_seed()\n",
    "\n",
    "    \n",
    "tag_dict = read_tag_vocab(config.output_tag_file)\n",
    "reversed_tag_dict = {v: k for (k, v) in tag_dict.items()}\n",
    "word_embedding, word_dict = gen_embedding_from_file(config.word_embedding_file, config.word_embedding_dim)\n",
    "char_embedding, char_dict = gen_embedding_from_file(config.char_embedding_file, config.char_embedding_dim)\n",
    "\n",
    "_config.nwords = len(word_dict)\n",
    "_config.ntags = len(tag_dict)\n",
    "_config.nchars = len(char_dict)\n",
    "model = sequence_labeling(_config, word_embedding, char_embedding)\n",
    "\n",
    "\n",
    "def get_word_ids(w):\n",
    "    word = w.lower()\n",
    "    if word in word_dict:\n",
    "        return word_dict[word]\n",
    "    else:\n",
    "        return word_dict[UNKNOWN_WORD]\n",
    "\n",
    "def get_char_ids(c):\n",
    "    if c in char_dict:\n",
    "        return char_dict[c]\n",
    "    else:\n",
    "        return char_dict[UNKNOWN_CHAR]"
   ]
  },
  {
   "cell_type": "markdown",
   "metadata": {},
   "source": [
    "## Example Sentences...\n",
    "Lets consider two example sentences:<br>\n",
    "Here we have 2 sentences with 7 words in each sentence, and a maximum of 14 characters in a sentence.<br>\n",
    "We will generate a char_index_batch of the size [2,7,14], and word_len_batch of the size [2,7].\n"
   ]
  },
  {
   "cell_type": "code",
   "execution_count": 6,
   "metadata": {},
   "outputs": [],
   "source": [
    "sen1 = ['Potion', 'Mastery', 'is', 'specialization', 'of', 'Alchemy', '.']\n",
    "sen2 = ['A', 'Guild', 'is', 'association', 'of', 'craftsmen', '.']\n",
    "\n",
    "#sen1 = ['Potion', 'Mastery', 'is', 'specialization', 'of', '.']\n",
    "#sen2 = ['A', 'Guild', 'is', 'association', 'of', '.']"
   ]
  },
  {
   "cell_type": "code",
   "execution_count": 7,
   "metadata": {},
   "outputs": [],
   "source": [
    "sentence_list = [sen1] + [sen2]\n",
    "\n",
    "word_index_lists = [[get_word_ids(word) for word in sentence] for sentence in sentence_list]\n",
    "char_index_matrix = [[[get_char_ids(char) for char in word] for word in sentence] for sentence in sentence_list]\n",
    "word_len_lists = [[len(word) for word in sentence] for sentence in char_index_matrix]\n",
    "sentence_len_list = [len(x) for x in word_len_lists]\n",
    "\n",
    "\n",
    "batch_char_index_matrices = np.zeros((len(word_index_lists), max(sentence_len_list), max(map(max, word_len_lists))), dtype=int)\n",
    "for i, (char_index_matrix, word_len_list) in enumerate(zip(char_index_matrix, word_len_lists)):\n",
    "    for j in range(len(word_len_list)):\n",
    "        batch_char_index_matrices[i, j, :word_len_list[j]] = char_index_matrix[j]\n",
    "        \n",
    "        \n",
    "batch_word_len_lists = np.ones((len(word_index_lists), max(sentence_len_list)), dtype=int) # cannot set default value to 0\n",
    "for i, (word_len, sent_len) in enumerate(zip(word_len_lists, sentence_len_list)):\n",
    "    batch_word_len_lists[i, :sent_len] = word_len\n",
    "    \n",
    "batch_word_len_lists = torch.from_numpy(np.array(batch_word_len_lists)).long()\n",
    "batch_char_index_matrices = torch.from_numpy(batch_char_index_matrices).long()"
   ]
  },
  {
   "cell_type": "markdown",
   "metadata": {},
   "source": [
    "We will pass the `batch_char_index_matrices` and `batch_word_len_lists` to the method `get_char_sequence()`."
   ]
  },
  {
   "cell_type": "code",
   "execution_count": 108,
   "metadata": {},
   "outputs": [],
   "source": [
    "## \n",
    "def get_char_sequence(model, batch_char_index_matrices, batch_word_len_lists):\n",
    "    \n",
    "    # Given an input of the size [2,7,14], we will convert it a minibatch of the shape [14,14] to \n",
    "    # represent 14 words(7 in each sentence), and 14 characters in each word.\n",
    "    mini_batch = batch_char_index_matrices.view(batch_char_index_matrices.size()[0]*batch_char_index_matrices.size()[1], batch_char_index_matrices.size()[2])\n",
    "    print('mini_batch', mini_batch.size())\n",
    "    batch_word_lengths = batch_word_len_lists.view(1, batch_word_len_lists.size()[0]*batch_word_len_lists.size()[1])\n",
    "    ## NOTE: Please DO NOT USE for Loops to iterate over the mini-batch.\n",
    "\n",
    "    \n",
    "    # Get corresponding char_Embeddings, we will have a Final Tensor of the shape [14, 14, 50]\n",
    "    # Sort the mini-batch wrt word-lengths, to form a pack_padded sequence.\n",
    "    # Feed the pack_padded sequence to the char_LSTM layer.\n",
    "    char_Embeddings = model.char_embeds(mini_batch)\n",
    "    print('char_embed', char_Embeddings.size())\n",
    "    print('mini_batch', mini_batch)\n",
    "    print('batch_word_len_lists', batch_word_len_lists.size())\n",
    "    print('batch_word_len_lists', batch_word_len_lists)\n",
    "    print('batch_word_lengths', batch_word_lengths.size())\n",
    "    print('batch_word_lengths', batch_word_lengths)\n",
    "\n",
    "    pack_padded_sequence = [x for _,x in sorted(zip(batch_word_lengths.tolist()[0], char_Embeddings.tolist()))]\n",
    "    pack_padded_sequence = torch.from_numpy(np.array(pack_padded_sequence))\n",
    "    pack_padded_sequence = pack_padded_sequence.type(torch.FloatTensor)\n",
    "    \n",
    "    print('pack_padded_sequence', pack_padded_sequence.size())\n",
    "    print('pack_padded_sequence', pack_padded_sequence)\n",
    "    \n",
    "    lstm_char_out, hidden_state = model.char_lstm(pack_padded_sequence)\n",
    "    \n",
    "    print('hidden_state_0', hidden_state[0].size())\n",
    "    \n",
    "    print('hidden_state_1', hidden_state[1].size())\n",
    "    \n",
    "    # Get hidden state of the shape [2,14,50].\n",
    "    # Recover the hidden_states corresponding to the sorted index.\n",
    "    # Re-shape it to get a Tensor the shape [2,7,100].\n",
    "\n",
    "    pass"
   ]
  },
  {
   "cell_type": "markdown",
   "metadata": {},
   "source": [
    "## Comparing the result returned by the method against the Ground Truth Values..."
   ]
  },
  {
   "cell_type": "markdown",
   "metadata": {},
   "source": [
    "You can compare the result returned by your method against the ground truth value, stored in the file `answer.npy`. "
   ]
  },
  {
   "cell_type": "code",
   "execution_count": 109,
   "metadata": {},
   "outputs": [
    {
     "name": "stdout",
     "output_type": "stream",
     "text": [
      "mini_batch torch.Size([14, 14])\n",
      "char_embed torch.Size([14, 14, 50])\n",
      "mini_batch tensor([[47,  7, 11, 13,  7, 15,  0,  0,  0,  0,  0,  0,  0,  0],\n",
      "        [56,  5, 18, 11,  3,  6, 25,  0,  0,  0,  0,  0,  0,  0],\n",
      "        [13, 18,  0,  0,  0,  0,  0,  0,  0,  0,  0,  0,  0,  0],\n",
      "        [18, 24,  3, 14, 13,  5, 21, 13, 33,  5, 11, 13,  7, 15],\n",
      "        [ 7, 22,  0,  0,  0,  0,  0,  0,  0,  0,  0,  0,  0,  0],\n",
      "        [30, 21, 14,  2,  3, 19, 25,  0,  0,  0,  0,  0,  0,  0],\n",
      "        [29,  0,  0,  0,  0,  0,  0,  0,  0,  0,  0,  0,  0,  0],\n",
      "        [30,  0,  0,  0,  0,  0,  0,  0,  0,  0,  0,  0,  0,  0],\n",
      "        [48,  9, 13, 21, 17,  0,  0,  0,  0,  0,  0,  0,  0,  0],\n",
      "        [13, 18,  0,  0,  0,  0,  0,  0,  0,  0,  0,  0,  0,  0],\n",
      "        [ 5, 18, 18,  7, 14, 13,  5, 11, 13,  7, 15,  0,  0,  0],\n",
      "        [ 7, 22,  0,  0,  0,  0,  0,  0,  0,  0,  0,  0,  0,  0],\n",
      "        [14,  6,  5, 22, 11, 18, 19,  3, 15,  0,  0,  0,  0,  0],\n",
      "        [29,  0,  0,  0,  0,  0,  0,  0,  0,  0,  0,  0,  0,  0]])\n",
      "batch_word_len_lists torch.Size([2, 7])\n",
      "batch_word_len_lists tensor([[ 6,  7,  2, 14,  2,  7,  1],\n",
      "        [ 1,  5,  2, 11,  2,  9,  1]])\n",
      "batch_word_lengths torch.Size([1, 14])\n",
      "batch_word_lengths tensor([[ 6,  7,  2, 14,  2,  7,  1,  1,  5,  2, 11,  2,  9,  1]])\n",
      "pack_padded_sequence torch.Size([14, 14, 50])\n",
      "pack_padded_sequence tensor([[[ 0.4809,  0.0226,  0.1715,  ...,  2.4125, -0.1964,  1.2415],\n",
      "         [ 0.0000,  0.0000,  0.0000,  ...,  0.0000,  0.0000,  0.0000],\n",
      "         [ 0.0000,  0.0000,  0.0000,  ...,  0.0000,  0.0000,  0.0000],\n",
      "         ...,\n",
      "         [ 0.0000,  0.0000,  0.0000,  ...,  0.0000,  0.0000,  0.0000],\n",
      "         [ 0.0000,  0.0000,  0.0000,  ...,  0.0000,  0.0000,  0.0000],\n",
      "         [ 0.0000,  0.0000,  0.0000,  ...,  0.0000,  0.0000,  0.0000]],\n",
      "\n",
      "        [[ 0.4809,  0.0226,  0.1715,  ...,  2.4125, -0.1964,  1.2415],\n",
      "         [ 0.0000,  0.0000,  0.0000,  ...,  0.0000,  0.0000,  0.0000],\n",
      "         [ 0.0000,  0.0000,  0.0000,  ...,  0.0000,  0.0000,  0.0000],\n",
      "         ...,\n",
      "         [ 0.0000,  0.0000,  0.0000,  ...,  0.0000,  0.0000,  0.0000],\n",
      "         [ 0.0000,  0.0000,  0.0000,  ...,  0.0000,  0.0000,  0.0000],\n",
      "         [ 0.0000,  0.0000,  0.0000,  ...,  0.0000,  0.0000,  0.0000]],\n",
      "\n",
      "        [[ 1.1755,  0.3317,  0.4684,  ..., -0.8706,  0.2787, -0.7122],\n",
      "         [ 0.0000,  0.0000,  0.0000,  ...,  0.0000,  0.0000,  0.0000],\n",
      "         [ 0.0000,  0.0000,  0.0000,  ...,  0.0000,  0.0000,  0.0000],\n",
      "         ...,\n",
      "         [ 0.0000,  0.0000,  0.0000,  ...,  0.0000,  0.0000,  0.0000],\n",
      "         [ 0.0000,  0.0000,  0.0000,  ...,  0.0000,  0.0000,  0.0000],\n",
      "         [ 0.0000,  0.0000,  0.0000,  ...,  0.0000,  0.0000,  0.0000]],\n",
      "\n",
      "        ...,\n",
      "\n",
      "        [[-0.0288, -0.8829, -0.5745,  ...,  1.5748, -0.1652,  1.1793],\n",
      "         [ 0.4326,  1.1023, -0.2024,  ...,  1.3028,  0.2553, -0.0130],\n",
      "         [ 2.2761, -0.0853, -0.9434,  ...,  0.8888,  1.8580, -1.9756],\n",
      "         ...,\n",
      "         [ 0.0000,  0.0000,  0.0000,  ...,  0.0000,  0.0000,  0.0000],\n",
      "         [ 0.0000,  0.0000,  0.0000,  ...,  0.0000,  0.0000,  0.0000],\n",
      "         [ 0.0000,  0.0000,  0.0000,  ...,  0.0000,  0.0000,  0.0000]],\n",
      "\n",
      "        [[ 2.2761, -0.0853, -0.9434,  ...,  0.8888,  1.8580, -1.9756],\n",
      "         [-1.4505,  0.3505, -1.9359,  ...,  1.0146, -0.0417,  0.7312],\n",
      "         [-1.4505,  0.3505, -1.9359,  ...,  1.0146, -0.0417,  0.7312],\n",
      "         ...,\n",
      "         [ 0.0000,  0.0000,  0.0000,  ...,  0.0000,  0.0000,  0.0000],\n",
      "         [ 0.0000,  0.0000,  0.0000,  ...,  0.0000,  0.0000,  0.0000],\n",
      "         [ 0.0000,  0.0000,  0.0000,  ...,  0.0000,  0.0000,  0.0000]],\n",
      "\n",
      "        [[-1.4505,  0.3505, -1.9359,  ...,  1.0146, -0.0417,  0.7312],\n",
      "         [ 0.0811, -1.5970, -1.8968,  ...,  0.3827,  1.4832, -1.2386],\n",
      "         [ 1.0825, -0.1601,  0.4151,  ..., -0.6072,  0.9924, -0.4825],\n",
      "         ...,\n",
      "         [-0.4453, -1.0254, -0.4102,  ..., -0.4496, -0.6884, -0.4064],\n",
      "         [-1.8682, -0.8013, -0.5252,  ..., -1.8635, -0.7476,  0.7022],\n",
      "         [-0.9721, -1.0824, -0.7232,  ...,  0.0561,  0.9387,  1.9106]]])\n",
      "hidden_state_0 torch.Size([2, 14, 50])\n",
      "hidden_state_1 torch.Size([2, 14, 50])\n"
     ]
    },
    {
     "ename": "AttributeError",
     "evalue": "'NoneType' object has no attribute 'data'",
     "output_type": "error",
     "traceback": [
      "\u001b[0;31m---------------------------------------------------------------------------\u001b[0m",
      "\u001b[0;31mAttributeError\u001b[0m                            Traceback (most recent call last)",
      "\u001b[0;32m<ipython-input-109-5cf384f02a6e>\u001b[0m in \u001b[0;36m<module>\u001b[0;34m()\u001b[0m\n\u001b[1;32m      1\u001b[0m \u001b[0manswer\u001b[0m \u001b[0;34m=\u001b[0m \u001b[0mget_char_sequence\u001b[0m\u001b[0;34m(\u001b[0m\u001b[0mmodel\u001b[0m\u001b[0;34m,\u001b[0m \u001b[0mbatch_char_index_matrices\u001b[0m\u001b[0;34m,\u001b[0m \u001b[0mbatch_word_len_lists\u001b[0m\u001b[0;34m)\u001b[0m\u001b[0;34m\u001b[0m\u001b[0m\n\u001b[0;32m----> 2\u001b[0;31m \u001b[0manswer\u001b[0m \u001b[0;34m=\u001b[0m \u001b[0manswer\u001b[0m\u001b[0;34m.\u001b[0m\u001b[0mdata\u001b[0m\u001b[0;34m.\u001b[0m\u001b[0mnumpy\u001b[0m\u001b[0;34m(\u001b[0m\u001b[0;34m)\u001b[0m\u001b[0;34m\u001b[0m\u001b[0m\n\u001b[0m\u001b[1;32m      3\u001b[0m \u001b[0mresult\u001b[0m \u001b[0;34m=\u001b[0m \u001b[0mnp\u001b[0m\u001b[0;34m.\u001b[0m\u001b[0mload\u001b[0m\u001b[0;34m(\u001b[0m\u001b[0;34m'./answer.npy'\u001b[0m\u001b[0;34m)\u001b[0m\u001b[0;34m\u001b[0m\u001b[0m\n",
      "\u001b[0;31mAttributeError\u001b[0m: 'NoneType' object has no attribute 'data'"
     ]
    }
   ],
   "source": [
    "answer = get_char_sequence(model, batch_char_index_matrices, batch_word_len_lists)\n",
    "answer = answer.data.numpy()\n",
    "result = np.load('./answer.npy')"
   ]
  },
  {
   "cell_type": "code",
   "execution_count": 110,
   "metadata": {},
   "outputs": [
    {
     "name": "stdout",
     "output_type": "stream",
     "text": [
      "Your implementation is not Correct\n"
     ]
    }
   ],
   "source": [
    "try:\n",
    "    assert np.allclose(np.asarray(answer.tolist()), np.asarray(result.tolist()), atol=0.001)\n",
    "    print('Your implementation is Correct')\n",
    "except:\n",
    "    print('Your implementation is not Correct')"
   ]
  },
  {
   "cell_type": "code",
   "execution_count": null,
   "metadata": {},
   "outputs": [],
   "source": []
  }
 ],
 "metadata": {
  "kernelspec": {
   "display_name": "Python 3",
   "language": "python",
   "name": "python3"
  },
  "language_info": {
   "codemirror_mode": {
    "name": "ipython",
    "version": 3
   },
   "file_extension": ".py",
   "mimetype": "text/x-python",
   "name": "python",
   "nbconvert_exporter": "python",
   "pygments_lexer": "ipython3",
   "version": "3.6.5"
  }
 },
 "nbformat": 4,
 "nbformat_minor": 2
}
