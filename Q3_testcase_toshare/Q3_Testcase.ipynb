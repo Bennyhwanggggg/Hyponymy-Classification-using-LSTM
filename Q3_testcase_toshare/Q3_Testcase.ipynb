{
 "cells": [
  {
   "cell_type": "markdown",
   "metadata": {},
   "source": [
    "# Q3: Char Sequence Embeddings Test Case "
   ]
  },
  {
   "cell_type": "code",
   "execution_count": 103,
   "metadata": {},
   "outputs": [],
   "source": [
    "import torch\n",
    "import numpy as np\n",
    "from config import config\n",
    "from model import sequence_labeling\n",
    "from randomness import apply_random_seed\n",
    "from torch.nn.utils.rnn import pack_padded_sequence, pad_packed_sequence\n",
    "from data_io import DataReader, gen_embedding_from_file, read_tag_vocab"
   ]
  },
  {
   "cell_type": "markdown",
   "metadata": {},
   "source": [
    "## Reading word and char index dictionaries"
   ]
  },
  {
   "cell_type": "code",
   "execution_count": 104,
   "metadata": {},
   "outputs": [],
   "source": [
    "_config = config()\n",
    "apply_random_seed()\n",
    "\n",
    "    \n",
    "tag_dict = read_tag_vocab(config.output_tag_file)\n",
    "reversed_tag_dict = {v: k for (k, v) in tag_dict.items()}\n",
    "word_embedding, word_dict = gen_embedding_from_file(config.word_embedding_file, config.word_embedding_dim)\n",
    "char_embedding, char_dict = gen_embedding_from_file(config.char_embedding_file, config.char_embedding_dim)\n",
    "\n",
    "_config.nwords = len(word_dict)\n",
    "_config.ntags = len(tag_dict)\n",
    "_config.nchars = len(char_dict)\n",
    "model = sequence_labeling(_config, word_embedding, char_embedding)\n",
    "\n",
    "\n",
    "def get_word_ids(w):\n",
    "    word = w.lower()\n",
    "    if word in word_dict:\n",
    "        return word_dict[word]\n",
    "    else:\n",
    "        return word_dict[UNKNOWN_WORD]\n",
    "\n",
    "def get_char_ids(c):\n",
    "    if c in char_dict:\n",
    "        return char_dict[c]\n",
    "    else:\n",
    "        return char_dict[UNKNOWN_CHAR]"
   ]
  },
  {
   "cell_type": "markdown",
   "metadata": {},
   "source": [
    "## Example Sentences...\n",
    "Lets consider two example sentences:<br>\n",
    "Here we have 2 sentences with 7 words in each sentence, and a maximum of 14 characters in a sentence.<br>\n",
    "We will generate a char_index_batch of the size [2,7,14], and word_len_batch of the size [2,7].\n"
   ]
  },
  {
   "cell_type": "code",
   "execution_count": 105,
   "metadata": {},
   "outputs": [],
   "source": [
    "sen1 = ['Potion', 'Mastery', 'is', 'specialization', 'of', 'Alchemy', '.']\n",
    "sen2 = ['A', 'Guild', 'is', 'association', 'of', 'craftsmen', '.']\n",
    "\n",
    "#sen1 = ['Potion', 'Mastery', 'is', 'specialization', 'of', '.']\n",
    "#sen2 = ['A', 'Guild', 'is', 'association', 'of', '.']"
   ]
  },
  {
   "cell_type": "code",
   "execution_count": 106,
   "metadata": {},
   "outputs": [],
   "source": [
    "sentence_list = [sen1] + [sen2]\n",
    "\n",
    "word_index_lists = [[get_word_ids(word) for word in sentence] for sentence in sentence_list]\n",
    "char_index_matrix = [[[get_char_ids(char) for char in word] for word in sentence] for sentence in sentence_list]\n",
    "word_len_lists = [[len(word) for word in sentence] for sentence in char_index_matrix]\n",
    "sentence_len_list = [len(x) for x in word_len_lists]\n",
    "\n",
    "\n",
    "batch_char_index_matrices = np.zeros((len(word_index_lists), max(sentence_len_list), max(map(max, word_len_lists))), dtype=int)\n",
    "for i, (char_index_matrix, word_len_list) in enumerate(zip(char_index_matrix, word_len_lists)):\n",
    "    for j in range(len(word_len_list)):\n",
    "        batch_char_index_matrices[i, j, :word_len_list[j]] = char_index_matrix[j]\n",
    "        \n",
    "        \n",
    "batch_word_len_lists = np.ones((len(word_index_lists), max(sentence_len_list)), dtype=int) # cannot set default value to 0\n",
    "for i, (word_len, sent_len) in enumerate(zip(word_len_lists, sentence_len_list)):\n",
    "    batch_word_len_lists[i, :sent_len] = word_len\n",
    "    \n",
    "batch_word_len_lists = torch.from_numpy(np.array(batch_word_len_lists)).long()\n",
    "batch_char_index_matrices = torch.from_numpy(batch_char_index_matrices).long()"
   ]
  },
  {
   "cell_type": "markdown",
   "metadata": {},
   "source": [
    "We will pass the `batch_char_index_matrices` and `batch_word_len_lists` to the method `get_char_sequence()`."
   ]
  },
  {
   "cell_type": "code",
   "execution_count": 216,
   "metadata": {},
   "outputs": [],
   "source": [
    "## \n",
    "def get_char_sequence(model, batch_char_index_matrices, batch_word_len_lists):\n",
    "    \n",
    "    # Given an input of the size [2,7,14], we will convert it a minibatch of the shape [14,14] to \n",
    "    # represent 14 words(7 in each sentence), and 14 characters in each word.\n",
    "    ## NOTE: Please DO NOT USE for Loops to iterate over the mini-batch.\n",
    "    char_size = batch_char_index_matrices.size()\n",
    "    mini_batch = batch_char_index_matrices.view(char_size[0]*char_size[1], char_size[2])\n",
    "    \n",
    "    # Get corresponding char_Embeddings, we will have a Final Tensor of the shape [14, 14, 50]\n",
    "    char_Embeddings = model.char_embeds(mini_batch)\n",
    "    \n",
    "    # Sort the mini-batch wrt word-lengths, to form a pack_padded sequence.\n",
    "    # Feed the pack_padded sequence to the char_LSTM layer.\n",
    "    batch_word_lengths = batch_word_len_lists.view(-1)\n",
    "    perm_idx, sorted_batch_word_len_lists = model.sort_input(batch_word_lengths)\n",
    "    sorted_input_embeds = char_Embeddings[perm_idx]\n",
    "    \n",
    "    # Get hidden state of the shape [2,14,50].\n",
    "    _, desorted_indices = torch.sort(perm_idx, descending=False)\n",
    "    outputs = pack_padded_sequence(sorted_input_embeds, lengths = sorted_batch_word_len_lists.data.tolist(), batch_first=True)\n",
    "    outputs, hidden_state = model.char_lstm(outputs)\n",
    "    \n",
    "    # Recover the hidden_states corresponding to the sorted index.\n",
    "    result = torch.cat([hidden_state[0][0], hidden_state[0][1]], dim=-1)\n",
    "    result = result[desorted_indices]\n",
    "    \n",
    "    # Re-shape it to get a Tensor the shape [2,7,100].\n",
    "    r_size = result.size()\n",
    "    result = result.view(2, int(r_size[0]/2), r_size[-1])\n",
    "\n",
    "    return result\n",
    "\n",
    "answer = get_char_sequence(model, batch_char_index_matrices, batch_word_len_lists)\n",
    "answer = answer.data.numpy()\n",
    "result = np.load('./answer.npy')"
   ]
  },
  {
   "cell_type": "markdown",
   "metadata": {},
   "source": [
    "## Comparing the result returned by the method against the Ground Truth Values..."
   ]
  },
  {
   "cell_type": "markdown",
   "metadata": {},
   "source": [
    "You can compare the result returned by your method against the ground truth value, stored in the file `answer.npy`. "
   ]
  },
  {
   "cell_type": "code",
   "execution_count": 200,
   "metadata": {},
   "outputs": [
    {
     "name": "stdout",
     "output_type": "stream",
     "text": [
      ">>batch_char_index_matrices =>  torch.Size([2, 7, 14]) >>batch_word_len_lists =>  torch.Size([2, 7])\n",
      "====mini_batch torch.Size([14, 14])\n",
      "===char_embed torch.Size([14, 14, 50])\n",
      "===batch_word_lengths torch.Size([14])\n",
      ">>perm_idx=>  tensor([ 3, 10, 12,  1,  5,  0,  8,  4,  2,  9, 11,  6,  7, 13]) >>sorted_batch_word_len_lists=>  tensor([14, 11,  9,  7,  7,  6,  5,  2,  2,  2,  2,  1,  1,  1])\n",
      "===sorted_input_embeds torch.Size([14, 14, 50])\n",
      "==== torch.Size([2, 14, 50])\n",
      ">>> torch.Size([2, 7, 100])\n"
     ]
    }
   ],
   "source": [
    "answer = get_char_sequence(model, batch_char_index_matrices, batch_word_len_lists)\n",
    "answer = answer.data.numpy()\n",
    "result = np.load('./answer.npy')"
   ]
  },
  {
   "cell_type": "code",
   "execution_count": 217,
   "metadata": {},
   "outputs": [
    {
     "name": "stdout",
     "output_type": "stream",
     "text": [
      "Your implementation is Correct\n"
     ]
    }
   ],
   "source": [
    "try:\n",
    "    assert np.allclose(np.asarray(answer.tolist()), np.asarray(result.tolist()), atol=0.001)\n",
    "    print('Your implementation is Correct')\n",
    "except:\n",
    "    print('Your implementation is not Correct')"
   ]
  },
  {
   "cell_type": "code",
   "execution_count": 149,
   "metadata": {},
   "outputs": [],
   "source": [
    "a = answer.tolist()"
   ]
  },
  {
   "cell_type": "code",
   "execution_count": 157,
   "metadata": {},
   "outputs": [
    {
     "data": {
      "text/plain": [
       "(14, 14, 100)"
      ]
     },
     "execution_count": 157,
     "metadata": {},
     "output_type": "execute_result"
    }
   ],
   "source": [
    "answer.shape"
   ]
  },
  {
   "cell_type": "code",
   "execution_count": 201,
   "metadata": {},
   "outputs": [
    {
     "name": "stdout",
     "output_type": "stream",
     "text": [
      "0 0 0\n",
      "0 0 1\n",
      "0 0 2\n",
      "0 0 3\n",
      "0 0 4\n",
      "0 0 6\n",
      "0 0 15\n",
      "0 0 39\n",
      "0 0 47\n",
      "0 0 50\n",
      "0 0 51\n",
      "0 0 52\n",
      "0 0 55\n",
      "0 0 91\n",
      "1 4 21\n",
      "0.597233384847641\n"
     ]
    }
   ],
   "source": [
    "a = answer.tolist()\n",
    "b = result.tolist()\n",
    "d = 0\n",
    "for i in range(len(a)):\n",
    "    l1 = a[i]\n",
    "    for j in range(len(l1)):\n",
    "        \n",
    "        l2 = l1[j]\n",
    "        for k in range(len(l2)):\n",
    "            l3 = l2[k]\n",
    "            v = abs(l3 - b[i][j][k])\n",
    "            if v > d:\n",
    "                d = v\n",
    "                print(i, j ,k)\n",
    "print(d)"
   ]
  },
  {
   "cell_type": "code",
   "execution_count": 211,
   "metadata": {},
   "outputs": [
    {
     "name": "stdout",
     "output_type": "stream",
     "text": [
      "torch.Size([14, 100])\n",
      "torch.Size([2, 7, 100])\n"
     ]
    }
   ],
   "source": [
    "## \n",
    "def get_char_sequence(model, batch_char_index_matrices, batch_word_len_lists):\n",
    "    \n",
    "    char_size = batch_char_index_matrices.size()\n",
    "    mini_batch = batch_char_index_matrices.view(char_size[0]*char_size[1], char_size[2])\n",
    "    \n",
    "    char_Embeddings = model.char_embeds(mini_batch)\n",
    "    batch_word_lengths = batch_word_len_lists.view(-1)\n",
    "    \n",
    "    perm_idx, sorted_batch_word_len_lists = model.sort_input(batch_word_lengths)\n",
    "    \n",
    "    sorted_input_embeds = char_Embeddings[perm_idx]\n",
    "    \n",
    "    _, desorted_indices = torch.sort(perm_idx, descending=False)\n",
    "    outputs = pack_padded_sequence(sorted_input_embeds, lengths = \n",
    "                                   sorted_batch_word_len_lists.data.tolist(), batch_first=True)\n",
    "    \n",
    "    outputs, hidden_state = model.char_lstm(outputs)\n",
    "\n",
    "    out_final = torch.cat([hidden_state[0][0], hidden_state[0][1]], dim=-1)\n",
    "    \n",
    "    print(out_final.size())\n",
    "    out_final = out_final[desorted_indices]\n",
    "    result = out_final.view(2,7,100)\n",
    "    print(result.size())\n",
    "    \n",
    "    \n",
    "\n",
    "\n",
    "    return result\n",
    "\n",
    "answer = get_char_sequence(model, batch_char_index_matrices, batch_word_len_lists)\n",
    "answer = answer.data.numpy()\n",
    "result = np.load('./answer.npy')"
   ]
  },
  {
   "cell_type": "code",
   "execution_count": null,
   "metadata": {},
   "outputs": [],
   "source": []
  }
 ],
 "metadata": {
  "kernelspec": {
   "display_name": "Python 3",
   "language": "python",
   "name": "python3"
  },
  "language_info": {
   "codemirror_mode": {
    "name": "ipython",
    "version": 3
   },
   "file_extension": ".py",
   "mimetype": "text/x-python",
   "name": "python",
   "nbconvert_exporter": "python",
   "pygments_lexer": "ipython3",
   "version": "3.7.0"
  }
 },
 "nbformat": 4,
 "nbformat_minor": 2
}
