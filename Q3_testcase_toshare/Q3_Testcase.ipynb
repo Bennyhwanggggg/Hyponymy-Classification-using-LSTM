{
 "cells": [
  {
   "cell_type": "markdown",
   "metadata": {},
   "source": [
    "# Q3: Char Sequence Embeddings Test Case "
   ]
  },
  {
   "cell_type": "code",
   "execution_count": 3,
   "metadata": {},
   "outputs": [],
   "source": [
    "import torch\n",
    "import numpy as np\n",
    "from config import config\n",
    "from model import sequence_labeling\n",
    "from randomness import apply_random_seed\n",
    "from data_io import DataReader, gen_embedding_from_file, read_tag_vocab"
   ]
  },
  {
   "cell_type": "markdown",
   "metadata": {},
   "source": [
    "## Reading word and char index dictionaries"
   ]
  },
  {
   "cell_type": "code",
   "execution_count": 4,
   "metadata": {},
   "outputs": [],
   "source": [
    "_config = config()\n",
    "apply_random_seed()\n",
    "\n",
    "    \n",
    "tag_dict = read_tag_vocab(config.output_tag_file)\n",
    "reversed_tag_dict = {v: k for (k, v) in tag_dict.items()}\n",
    "word_embedding, word_dict = gen_embedding_from_file(config.word_embedding_file, config.word_embedding_dim)\n",
    "char_embedding, char_dict = gen_embedding_from_file(config.char_embedding_file, config.char_embedding_dim)\n",
    "\n",
    "_config.nwords = len(word_dict)\n",
    "_config.ntags = len(tag_dict)\n",
    "_config.nchars = len(char_dict)\n",
    "model = sequence_labeling(_config, word_embedding, char_embedding)\n",
    "\n",
    "\n",
    "def get_word_ids(w):\n",
    "    word = w.lower()\n",
    "    if word in word_dict:\n",
    "        return word_dict[word]\n",
    "    else:\n",
    "        return word_dict[UNKNOWN_WORD]\n",
    "\n",
    "def get_char_ids(c):\n",
    "    if c in char_dict:\n",
    "        return char_dict[c]\n",
    "    else:\n",
    "        return char_dict[UNKNOWN_CHAR]"
   ]
  },
  {
   "cell_type": "markdown",
   "metadata": {},
   "source": [
    "## Example Sentences...\n",
    "Lets consider two example sentences:<br>\n",
    "Here we have 2 sentences with 7 words in each sentence, and a maximum of 14 characters in a sentence.<br>\n",
    "We will generate a char_index_batch of the size [2,7,14], and word_len_batch of the size [2,7].\n"
   ]
  },
  {
   "cell_type": "code",
   "execution_count": 76,
   "metadata": {},
   "outputs": [],
   "source": [
    "sen1 = ['Potion', 'Mastery', 'is', 'specialization', 'of', 'Alchemy', '.']\n",
    "sen2 = ['A', 'Guild', 'is', 'association', 'of', 'craftsmen', '.']\n",
    "\n",
    "#sen1 = ['Potion', 'Mastery', 'is', 'specialization', 'of', '.']\n",
    "#sen2 = ['A', 'Guild', 'is', 'association', 'of', '.']"
   ]
  },
  {
   "cell_type": "code",
   "execution_count": 77,
   "metadata": {},
   "outputs": [],
   "source": [
    "sentence_list = [sen1] + [sen2]\n",
    "\n",
    "word_index_lists = [[get_word_ids(word) for word in sentence] for sentence in sentence_list]\n",
    "char_index_matrix = [[[get_char_ids(char) for char in word] for word in sentence] for sentence in sentence_list]\n",
    "word_len_lists = [[len(word) for word in sentence] for sentence in char_index_matrix]\n",
    "sentence_len_list = [len(x) for x in word_len_lists]\n",
    "\n",
    "\n",
    "batch_char_index_matrices = np.zeros((len(word_index_lists), max(sentence_len_list), max(map(max, word_len_lists))), dtype=int)\n",
    "for i, (char_index_matrix, word_len_list) in enumerate(zip(char_index_matrix, word_len_lists)):\n",
    "    for j in range(len(word_len_list)):\n",
    "        batch_char_index_matrices[i, j, :word_len_list[j]] = char_index_matrix[j]\n",
    "        \n",
    "        \n",
    "batch_word_len_lists = np.ones((len(word_index_lists), max(sentence_len_list)), dtype=int) # cannot set default value to 0\n",
    "for i, (word_len, sent_len) in enumerate(zip(word_len_lists, sentence_len_list)):\n",
    "    batch_word_len_lists[i, :sent_len] = word_len\n",
    "    \n",
    "batch_word_len_lists = torch.from_numpy(np.array(batch_word_len_lists)).long()\n",
    "batch_char_index_matrices = torch.from_numpy(batch_char_index_matrices).long()"
   ]
  },
  {
   "cell_type": "markdown",
   "metadata": {},
   "source": [
    "We will pass the `batch_char_index_matrices` and `batch_word_len_lists` to the method `get_char_sequence()`."
   ]
  },
  {
   "cell_type": "code",
   "execution_count": 98,
   "metadata": {},
   "outputs": [],
   "source": [
    "## \n",
    "def get_char_sequence(model, batch_char_index_matrices, batch_word_len_lists):\n",
    "    \n",
    "    # Given an input of the size [2,7,14], we will convert it a minibatch of the shape [14,14] to \n",
    "    # represent 14 words(7 in each sentence), and 14 characters in each word.\n",
    "    batch_char_index_matrices = batch_char_index_matrices.view(batch_char_index_matrices.size()[0]*batch_char_index_matrices.size()[1], batch_char_index_matrices.size()[2])\n",
    "    print('batch_char_index_matrices', batch_char_index_matrices.size())\n",
    "    ## NOTE: Please DO NOT USE for Loops to iterate over the mini-batch.\n",
    "    \n",
    "    batch_word_len_lists = batch_word_len_lists.view(batch_word_len_lists.size()[0]*batch_word_len_lists.size()[1], 1)\n",
    "    print('batch_word_len_lists', batch_word_len_lists.size())\n",
    "    \n",
    "    \n",
    "    # Get corresponding char_Embeddings, we will have a Final Tensor of the shape [14, 14, 50]\n",
    "    # Sort the mini-batch wrt word-lengths, to form a pack_padded sequence.\n",
    "    # Feed the pack_padded sequence to the char_LSTM layer.\n",
    "    char_embed = model.char_embeds(batch_char_index_matrices)\n",
    "    print('char_embed', char_embed.size())\n",
    "    pack_padded_sequence, sorted_index = torch.sort(char_embed, descending=False)\n",
    "    char_lstm, hidden = model.char_lstm(pack_padded_sequence)\n",
    "    print('pack_padded_sequence', pack_padded_sequence.size())\n",
    "    print('char_lstm', char_lstm.size())\n",
    "    print('hidden', hidden[0].size())\n",
    "    print('sorted',  sorted_index.size())\n",
    "#     print('sorted',  sorted_index)\n",
    "#     print('char_lstm', char_lstm)\n",
    "    \n",
    "    # Get hidden state of the shape [2,14,50].\n",
    "    # Recover the hidden_states corresponding to the sorted index.\n",
    "    # Re-shape it to get a Tensor the shape [2,7,100].\n",
    "    print(char_lstm[sorted_index])\n",
    "    \n",
    "    \n",
    "    result = hidden_state.view(hidden_state[0], hidden_state[1]/2, hidden_state[2]*2)\n",
    "    #return result\n",
    "    pass"
   ]
  },
  {
   "cell_type": "markdown",
   "metadata": {},
   "source": [
    "## Comparing the result returned by the method against the Ground Truth Values..."
   ]
  },
  {
   "cell_type": "markdown",
   "metadata": {},
   "source": [
    "You can compare the result returned by your method against the ground truth value, stored in the file `answer.npy`. "
   ]
  },
  {
   "cell_type": "code",
   "execution_count": 99,
   "metadata": {},
   "outputs": [
    {
     "name": "stdout",
     "output_type": "stream",
     "text": [
      "batch_char_index_matrices torch.Size([14, 14])\n",
      "batch_word_len_lists torch.Size([14, 1])\n",
      "char_embed torch.Size([14, 14, 50])\n",
      "pack_padded_sequence torch.Size([14, 14, 50])\n",
      "char_lstm torch.Size([14, 14, 100])\n",
      "hidden torch.Size([2, 14, 50])\n",
      "sorted torch.Size([14, 14, 50])\n"
     ]
    },
    {
     "ename": "RuntimeError",
     "evalue": "index 49 is out of bounds for dimension 0 with size 14",
     "output_type": "error",
     "traceback": [
      "\u001b[0;31m---------------------------------------------------------------------------\u001b[0m",
      "\u001b[0;31mRuntimeError\u001b[0m                              Traceback (most recent call last)",
      "\u001b[0;32m<ipython-input-99-5cf384f02a6e>\u001b[0m in \u001b[0;36m<module>\u001b[0;34m()\u001b[0m\n\u001b[0;32m----> 1\u001b[0;31m \u001b[0manswer\u001b[0m \u001b[0;34m=\u001b[0m \u001b[0mget_char_sequence\u001b[0m\u001b[0;34m(\u001b[0m\u001b[0mmodel\u001b[0m\u001b[0;34m,\u001b[0m \u001b[0mbatch_char_index_matrices\u001b[0m\u001b[0;34m,\u001b[0m \u001b[0mbatch_word_len_lists\u001b[0m\u001b[0;34m)\u001b[0m\u001b[0;34m\u001b[0m\u001b[0m\n\u001b[0m\u001b[1;32m      2\u001b[0m \u001b[0manswer\u001b[0m \u001b[0;34m=\u001b[0m \u001b[0manswer\u001b[0m\u001b[0;34m.\u001b[0m\u001b[0mdata\u001b[0m\u001b[0;34m.\u001b[0m\u001b[0mnumpy\u001b[0m\u001b[0;34m(\u001b[0m\u001b[0;34m)\u001b[0m\u001b[0;34m\u001b[0m\u001b[0m\n\u001b[1;32m      3\u001b[0m \u001b[0mresult\u001b[0m \u001b[0;34m=\u001b[0m \u001b[0mnp\u001b[0m\u001b[0;34m.\u001b[0m\u001b[0mload\u001b[0m\u001b[0;34m(\u001b[0m\u001b[0;34m'./answer.npy'\u001b[0m\u001b[0;34m)\u001b[0m\u001b[0;34m\u001b[0m\u001b[0m\n",
      "\u001b[0;32m<ipython-input-98-60ced865ce8a>\u001b[0m in \u001b[0;36mget_char_sequence\u001b[0;34m(model, batch_char_index_matrices, batch_word_len_lists)\u001b[0m\n\u001b[1;32m     29\u001b[0m     \u001b[0;31m# Recover the hidden_states corresponding to the sorted index.\u001b[0m\u001b[0;34m\u001b[0m\u001b[0;34m\u001b[0m\u001b[0m\n\u001b[1;32m     30\u001b[0m     \u001b[0;31m# Re-shape it to get a Tensor the shape [2,7,100].\u001b[0m\u001b[0;34m\u001b[0m\u001b[0;34m\u001b[0m\u001b[0m\n\u001b[0;32m---> 31\u001b[0;31m     \u001b[0mprint\u001b[0m\u001b[0;34m(\u001b[0m\u001b[0mchar_lstm\u001b[0m\u001b[0;34m[\u001b[0m\u001b[0msorted_index\u001b[0m\u001b[0;34m]\u001b[0m\u001b[0;34m)\u001b[0m\u001b[0;34m\u001b[0m\u001b[0m\n\u001b[0m\u001b[1;32m     32\u001b[0m \u001b[0;34m\u001b[0m\u001b[0m\n\u001b[1;32m     33\u001b[0m \u001b[0;34m\u001b[0m\u001b[0m\n",
      "\u001b[0;31mRuntimeError\u001b[0m: index 49 is out of bounds for dimension 0 with size 14"
     ]
    }
   ],
   "source": [
    "answer = get_char_sequence(model, batch_char_index_matrices, batch_word_len_lists)\n",
    "answer = answer.data.numpy()\n",
    "result = np.load('./answer.npy')"
   ]
  },
  {
   "cell_type": "code",
   "execution_count": 8,
   "metadata": {},
   "outputs": [
    {
     "name": "stdout",
     "output_type": "stream",
     "text": [
      "Your implementation is Correct\n"
     ]
    }
   ],
   "source": [
    "try:\n",
    "    assert np.allclose(np.asarray(answer.tolist()), np.asarray(result.tolist()), atol=0.001)\n",
    "    print('Your implementation is Correct')\n",
    "except:\n",
    "    print('Your implementation is not Correct')"
   ]
  },
  {
   "cell_type": "code",
   "execution_count": null,
   "metadata": {},
   "outputs": [],
   "source": []
  }
 ],
 "metadata": {
  "kernelspec": {
   "display_name": "Python 3",
   "language": "python",
   "name": "python3"
  },
  "language_info": {
   "codemirror_mode": {
    "name": "ipython",
    "version": 3
   },
   "file_extension": ".py",
   "mimetype": "text/x-python",
   "name": "python",
   "nbconvert_exporter": "python",
   "pygments_lexer": "ipython3",
   "version": "3.6.5"
  }
 },
 "nbformat": 4,
 "nbformat_minor": 2
}
